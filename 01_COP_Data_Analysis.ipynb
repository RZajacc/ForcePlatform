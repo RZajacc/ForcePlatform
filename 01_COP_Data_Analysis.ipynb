{
 "cells": [
  {
   "cell_type": "markdown",
   "metadata": {},
   "source": [
    "### COP Data Files - processing\n",
    "This file is build to open and process data files recored by force platform constructed by the company AMTI. It is used in both sport and clinical studies to measure body posture. To achieve this goal it records with a high frequency forces, which can be used to calculate body's Center Of Pressure (COP), and it's translations give some insight into postural stability of a subject. "
   ]
  },
  {
   "cell_type": "code",
   "execution_count": 18,
   "metadata": {},
   "outputs": [],
   "source": [
    "import pandas as pd\n",
    "import numpy as np\n",
    "from scipy import signal\n",
    "from pyentrp import entropy as ent\n",
    "import glob\n",
    "import chardet"
   ]
  },
  {
   "cell_type": "markdown",
   "metadata": {},
   "source": [
    "## 1) Import of selected data"
   ]
  },
  {
   "cell_type": "markdown",
   "metadata": {},
   "source": [
    "All data recorded form force platform is stored in .txt files. Each contain 6 columns with forces in frontal, medial and vertical plane and also moments of forces in same directions. Data is usually recored with the frequency of 50-100Hz, and for 30 seconds which gives 1500-3000 rows of data in this example. Plaese use the correct pattern file depending on your operating system!"
   ]
  },
  {
   "cell_type": "code",
   "execution_count": 19,
   "metadata": {},
   "outputs": [],
   "source": [
    "# Pattern for folder, and file type selection (Linux/Macos)\n",
    "#! On Windows you need to replace all '/' with '\\\\'\n",
    "patternFiles = 'Data/COP_Data/Group_1/*.txt'\n",
    "\n",
    "# Initial filename\n",
    "patternFilename = 'Data/COP_Data/Group_1/'\n",
    "\n",
    "# Resulting xls file name\n",
    "patternExport = 'DataBase/COP_DB_Group_1.xlsx'\n",
    "\n",
    "# Gather all files\n",
    "files = glob.glob(patternFiles)"
   ]
  },
  {
   "cell_type": "markdown",
   "metadata": {},
   "source": [
    "Chardet is used here only to verify file encoding. Its not necessary to uncomment it in order to run rest of the code"
   ]
  },
  {
   "cell_type": "code",
   "execution_count": 20,
   "metadata": {},
   "outputs": [],
   "source": [
    "# with open(files[0], 'rb') as file:\n",
    "#     result = chardet.detect(file.read())\n",
    "#     print(result)\n",
    "# df= pd.read_csv(files[0], skiprows=5, header = None, encoding=\"Windows-1252\")"
   ]
  },
  {
   "cell_type": "markdown",
   "metadata": {},
   "source": [
    "Class for text attributes (Important for aesthethics of print outs)"
   ]
  },
  {
   "cell_type": "code",
   "execution_count": 21,
   "metadata": {},
   "outputs": [],
   "source": [
    "class color:\n",
    "   PURPLE = '\\033[95m'\n",
    "   CYAN = '\\033[96m'\n",
    "   DARKCYAN = '\\033[36m'\n",
    "   BLUE = '\\033[94m'\n",
    "   GREEN = '\\033[92m'\n",
    "   YELLOW = '\\033[93m'\n",
    "   RED = '\\033[91m'\n",
    "   BOLD = '\\033[1m'\n",
    "   UNDERLINE = '\\033[4m'\n",
    "   END = '\\033[0m'"
   ]
  },
  {
   "cell_type": "markdown",
   "metadata": {},
   "source": [
    "## 2) Calculating essential data in each file from chosen path"
   ]
  },
  {
   "cell_type": "markdown",
   "metadata": {},
   "source": [
    "First each file will be filtered with 4th order Butterworth filter with cutoff frequency set to 7hz.\n",
    "After this for each measurement there will be calculated COP (Center of Pressure) for medial and frontal plane with all characteristics describing its movement (velocity, range of displacement, lentgh). Last parameter in this part of analysis will be calculating Sample Entropy of each measurement. "
   ]
  },
  {
   "cell_type": "code",
   "execution_count": 22,
   "metadata": {},
   "outputs": [],
   "source": [
    "#Initializing empty DataFrame to store results for each measurement\n",
    "COP_Result = pd.DataFrame(columns= ['File', 'raCOP_AP', 'stdCOP_AP', 'rmsCOP_AP', 'lenCOP_AP', 'vCOP_AP', \n",
    "                                    'sampEN_AP', 'std_sampeEN_AP','raCOP_ML', 'stdCOP_ML', 'rmsCOP_ML', \n",
    "                                    'lenCOP_ML', 'vCOP_ML', 'sampEN_ML', 'std_sampeEN_ML'])\n",
    "\n",
    "#Counter for files (only for information about progress)\n",
    "fileCount = 1\n",
    "fileAmount = len(files)"
   ]
  },
  {
   "cell_type": "code",
   "execution_count": 23,
   "metadata": {
    "scrolled": true
   },
   "outputs": [
    {
     "name": "stderr",
     "output_type": "stream",
     "text": [
      "/tmp/ipykernel_13402/2122209257.py:71: FutureWarning: The behavior of DataFrame concatenation with empty or all-NA entries is deprecated. In a future version, this will no longer exclude empty or all-NA columns when determining the result dtypes. To retain the old behavior, exclude the relevant entries before the concat operation.\n",
      "  COP_Result = pd.concat([COP_Result, rowData], ignore_index=True)\n"
     ]
    },
    {
     "name": "stdout",
     "output_type": "stream",
     "text": [
      "\u001b[1mTotal progress : \u001b[0m100%\n",
      "\n",
      "\u001b[1m\u001b[92mAll data processed succesfully !!\u001b[0m\n",
      "\u001b[1mAmount of files processd = \u001b[0m45\n"
     ]
    }
   ],
   "source": [
    "# Looping through files stored in selected folder\n",
    "for file in files:\n",
    "    \n",
    "    #Read file from file list\n",
    "    df= pd.read_csv(file, header = None, encoding=\"Windows-1252\", skiprows=4)\n",
    "    df.columns = ['Fx', 'Fy', 'Fz', 'Mx', 'My', 'Mz']\n",
    "    \n",
    "    #Filename for a file (cutting path to folder so only file name stays)\n",
    "    fileName = file.replace(patternFilename, '')\n",
    "    \n",
    "    #Filtering data with Butterworth filter\n",
    "    \n",
    "    #Cutoff frequency\n",
    "    fc = 7\n",
    "\n",
    "    #Sampling frequency used in measurement\n",
    "    fs = 50\n",
    "\n",
    "    #Filter definition\n",
    "    b, a = signal.butter(4, fc/(fs/2), 'low', analog=False)\n",
    "\n",
    "    df['Fx'] = signal.filtfilt(b,a, df['Fx'])\n",
    "    df['Fy'] = signal.filtfilt(b,a, df['Fy'])\n",
    "    df['Fz'] = signal.filtfilt(b,a, df['Fz'])\n",
    "    df['Mx'] = signal.filtfilt(b,a, df['Mx'])\n",
    "    df['My'] = signal.filtfilt(b,a, df['My'])\n",
    "    df['Mz'] = signal.filtfilt(b,a, df['Mz'])\n",
    "    \n",
    "    \n",
    "    #Assigning timeline for data\n",
    "    df['Time'] = [ind / fs for ind in df.index]\n",
    "    \n",
    "    \n",
    "    #Calculation of center of pressure for both directions - frontal and medial\n",
    "    df['COPX'] = [ -(My/Fz) *100 for My,Fz in zip(df['My'], df['Fz']) ]\n",
    "    df['COPY'] = [ -(-Mx/Fz) * 100 for Mx,Fz in zip(df['Mx'], df['Fz'])]\n",
    "    \n",
    "\n",
    "    #Calculating COP characteristics in anterior-posterior direction (AP)\n",
    "    raCOP_AP = df['COPY'].max() - df['COPY'].min()\n",
    "    stdCOP_AP = df['COPY'].std()\n",
    "    rmsCOP_AP = np.sqrt( df['COPY'].mean() **2 )   \n",
    "    lenCOP_AP = 0\n",
    "\n",
    "    for i in range(0, len(df['COPY'])-1) :\n",
    "        lenCOP_AP += abs(df['COPY'][i+1] - (df['COPY'][i]) ) \n",
    "\n",
    "    vCOP_AP = lenCOP_AP / ( len(df['COPY']) / fs ) \n",
    "    sampeEn_AP = ent.sample_entropy(df['COPY'], 3, 0.2)\n",
    "\n",
    "    #Calculating COP characteristics in medio-lateral plane (ML)\n",
    "    raCOP_ML = df['COPX'].max() - df['COPX'].min()\n",
    "    stdCOP_ML = df['COPX'].std()\n",
    "    rmsCOP_ML = np.sqrt( df['COPX'].mean() **2)   \n",
    "    lenCOP_ML = 0\n",
    "\n",
    "    for i in range(0, len(df['COPX'])-1) :\n",
    "        lenCOP_ML += abs(df['COPX'][i+1] - (df['COPX'][i]) ) \n",
    "\n",
    "    vCOP_ML = lenCOP_ML / ( len(df['COPX']) / fs ) \n",
    "    sampeEN_ML = ent.sample_entropy(df['COPX'], 3, 0.2)\n",
    "\n",
    "    #Create a new df with a result\n",
    "    rowData = pd.DataFrame({'File': [fileName], 'raCOP_AP': [raCOP_AP], 'stdCOP_AP': [stdCOP_AP], 'rmsCOP_AP': [rmsCOP_AP], \n",
    "                                    'lenCOP_AP': [lenCOP_AP], 'vCOP_AP' : [vCOP_AP], 'sampEN_AP' : [sampeEn_AP[0]], \n",
    "                                    'std_sampeEN_AP': [sampeEn_AP[1]], 'raCOP_ML': [raCOP_ML], 'stdCOP_ML': [stdCOP_ML], \n",
    "                                    'rmsCOP_ML': rmsCOP_ML, 'lenCOP_ML': lenCOP_ML, 'vCOP_ML': vCOP_ML, \n",
    "                                    'sampEN_ML': [sampeEN_ML[0]], 'std_sampeEN_ML': [sampeEN_ML[1]] })\n",
    "    \n",
    "    # Add result to the main data frame\n",
    "    COP_Result = pd.concat([COP_Result, rowData], ignore_index=True)\n",
    "    \n",
    "    #Information about progress\n",
    "    print(color.BOLD + 'Total progress : ' + color.END + str(int(fileCount/fileAmount  *100)) + '%', end = '\\r')\n",
    "    fileCount = fileCount + 1\n",
    "    \n",
    "\n",
    "#Print a message with short summary after analysis is done    \n",
    "print('\\n' + '\\n' + color.BOLD + color.GREEN + 'All data processed succesfully !!' + color.END + '\\n' +  color.BOLD + 'Amount of files processd = ' + color.END + str(len(files)))"
   ]
  },
  {
   "cell_type": "markdown",
   "metadata": {},
   "source": [
    "## Export result dataframe into excel file\n",
    "Database that will be used in the 2nd part of the analysis consists of all 3 groups data combined, with a category column added. Also to make this final database I used more data. This was done manually therefore I the file is already in database folder. Data processed here is not required for the next steps"
   ]
  },
  {
   "cell_type": "code",
   "execution_count": 24,
   "metadata": {},
   "outputs": [],
   "source": [
    "COP_Result.sort_values(by=\"File\", ascending=True, inplace=True)\n",
    "COP_Result.to_excel(patternExport, index=False)"
   ]
  },
  {
   "cell_type": "markdown",
   "metadata": {},
   "source": [
    "1. Dodaj README\n",
    "2. Push"
   ]
  }
 ],
 "metadata": {
  "kernelspec": {
   "display_name": "forcePlate",
   "language": "python",
   "name": "python3"
  },
  "language_info": {
   "codemirror_mode": {
    "name": "ipython",
    "version": 3
   },
   "file_extension": ".py",
   "mimetype": "text/x-python",
   "name": "python",
   "nbconvert_exporter": "python",
   "pygments_lexer": "ipython3",
   "version": "3.12.3"
  }
 },
 "nbformat": 4,
 "nbformat_minor": 2
}
